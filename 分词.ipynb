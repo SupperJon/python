{
 "cells": [
  {
   "cell_type": "code",
   "execution_count": 8,
   "metadata": {},
   "outputs": [],
   "source": [
    "import jieba\n",
    "import thulac\n",
    "import pkuseg\n",
    "import snownlp\n",
    "import pandas as pd"
   ]
  },
  {
   "cell_type": "code",
   "execution_count": 10,
   "metadata": {},
   "outputs": [],
   "source": [
    "filepath = r'D:\\日常任务\\邯郸\\2019\\邯郸新闻.txt'\n",
    "with open(filepath) as t:\n",
    "    txt = t.read()\n",
    "\n",
    "stopwords = []\n",
    "with open(\"stopwords.txt\") as f:\n",
    "    stopwords = f.read()"
   ]
  },
  {
   "cell_type": "code",
   "execution_count": 3,
   "metadata": {},
   "outputs": [
    {
     "name": "stderr",
     "output_type": "stream",
     "text": [
      "Building prefix dict from the default dictionary ...\n",
      "Loading model from cache C:\\Users\\hujia\\AppData\\Local\\Temp\\jieba.cache\n",
      "Loading model cost 1.279 seconds.\n",
      "Prefix dict has been built succesfully.\n"
     ]
    },
    {
     "name": "stdout",
     "output_type": "stream",
     "text": [
      "Wall time: 5.65 s\n"
     ]
    }
   ],
   "source": [
    "%%time\n",
    "#jieba\n",
    "import jieba.analyse\n",
    "\n",
    "word_lst = []\n",
    "\n",
    "for line in open(filepath):#1.txt是需要分词统计的文档    \n",
    "    it = line.strip('\\n\\r').split('\\t') #制表格切分  \n",
    "    #print (item)  \n",
    "    tags = jieba.analyse.extract_tags(it[0]) #jieba分词  \n",
    "    for t in tags:  \n",
    "        word_lst.append(t)  \n",
    "#print(word_lst)\n",
    "\n",
    "word_dict = {}\n",
    "for item in word_lst:  \n",
    "    if item not in word_dict: #统计数量  \n",
    "        word_dict[item] = 1  \n",
    "    else:  \n",
    "        word_dict[item] += 1\n",
    "\n",
    "df = pd.DataFrame.from_dict(word_dict,orient='index',columns = ['词频'])\n",
    "df = df.sort_values(by = '词频',ascending= False)\n",
    "df = df.reset_index()\n",
    "df.to_csv('两会（jieba）.csv',columns = ['index','词频'],index = False)"
   ]
  },
  {
   "cell_type": "code",
   "execution_count": 38,
   "metadata": {
    "scrolled": true
   },
   "outputs": [],
   "source": []
  },
  {
   "cell_type": "code",
   "execution_count": 8,
   "metadata": {},
   "outputs": [
    {
     "name": "stdout",
     "output_type": "stream",
     "text": [
      "Model loaded succeed\n",
      "Wall time: 2min 47s\n"
     ]
    }
   ],
   "source": [
    "%%time\n",
    "\n",
    "thu1 = thulac.thulac(seg_only=False)   #默认模式\n",
    "text = thu1.cut(txt, text=False)  #进行一句话分词\n",
    "\n",
    "\n",
    "new_text = []\n",
    "\n",
    "for i in range(len(text)):\n",
    "    if text[i][0] not in stopwords:\n",
    "        new_text.append(text[i][0])\n",
    "\n",
    "counter = Counter(new_text)\n",
    "word_list = counter.most_common()\n",
    "word_df = pd.DataFrame(word_list,columns=['词','词频'])\n",
    "word_df.to_csv('两会(thu).csv',index = False)    \n",
    "word_df.head()"
   ]
  },
  {
   "cell_type": "code",
   "execution_count": 11,
   "metadata": {},
   "outputs": [
    {
     "name": "stdout",
     "output_type": "stream",
     "text": [
      "Wall time: 9.08 s\n"
     ]
    }
   ],
   "source": [
    "%%time\n",
    "from collections import Counter\n",
    "from pprint import pprint\n",
    "\n",
    "lexicon = ['邯郸','开门红','省委','市委','高宏志','永年','张伟丽','瓷器']\n",
    "seg = pkuseg.pkuseg(user_dict=lexicon)\n",
    "text = seg.cut(txt)\n",
    "\n",
    "new_text = []\n",
    "\n",
    "for w in text:\n",
    "    if w not in stopwords:\n",
    "        new_text.append(w)\n",
    "        \n",
    "counter = Counter(new_text)\n",
    "word_list = counter.most_common()\n",
    "word_df = pd.DataFrame(word_list,columns=['词','词频'])\n",
    "word_df.to_csv('邯郸新闻(pku).csv',index = False)"
   ]
  },
  {
   "cell_type": "code",
   "execution_count": 72,
   "metadata": {},
   "outputs": [
    {
     "data": {
      "text/plain": [
       "['发展', '改革', '推进', '建设', '企业']"
      ]
     },
     "execution_count": 72,
     "metadata": {},
     "output_type": "execute_result"
    }
   ],
   "source": [
    "from snownlp import SnowNLP\n",
    "\n",
    "t = u'经济运行保持在合理区间。国内生产总值增长6.6%，总量突破90万亿元。经济增速与用电、货运等实物量指标相匹配。居民消费价格上涨2.1%。国际收支基本平衡。城镇新增就业1361万人、调查失业率稳定在5%左右的较低水平。近14亿人口的发展中大国，实现了比较充分就业。'\n",
    "s = SnowNLP(txt)\n",
    "s.keywords(5)"
   ]
  },
  {
   "cell_type": "code",
   "execution_count": 74,
   "metadata": {},
   "outputs": [
    {
     "data": {
      "text/plain": [
       "['推动改革发展政策和部署落实',\n",
       " '改革完善环境经济政策',\n",
       " '中国创新一定能更好发展',\n",
       " '改革发展成果更多更公平惠及人民群众',\n",
       " '一些改革发展举措落实不到位']"
      ]
     },
     "execution_count": 74,
     "metadata": {},
     "output_type": "execute_result"
    }
   ],
   "source": [
    "s.summary(5)"
   ]
  }
 ],
 "metadata": {
  "kernelspec": {
   "display_name": "Python 3",
   "language": "python",
   "name": "python3"
  },
  "language_info": {
   "codemirror_mode": {
    "name": "ipython",
    "version": 3
   },
   "file_extension": ".py",
   "mimetype": "text/x-python",
   "name": "python",
   "nbconvert_exporter": "python",
   "pygments_lexer": "ipython3",
   "version": "3.7.1"
  },
  "toc": {
   "base_numbering": 1,
   "nav_menu": {},
   "number_sections": true,
   "sideBar": true,
   "skip_h1_title": false,
   "title_cell": "Table of Contents",
   "title_sidebar": "Contents",
   "toc_cell": false,
   "toc_position": {},
   "toc_section_display": true,
   "toc_window_display": false
  },
  "varInspector": {
   "cols": {
    "lenName": 16,
    "lenType": 16,
    "lenVar": 40
   },
   "kernels_config": {
    "python": {
     "delete_cmd_postfix": "",
     "delete_cmd_prefix": "del ",
     "library": "var_list.py",
     "varRefreshCmd": "print(var_dic_list())"
    },
    "r": {
     "delete_cmd_postfix": ") ",
     "delete_cmd_prefix": "rm(",
     "library": "var_list.r",
     "varRefreshCmd": "cat(var_dic_list()) "
    }
   },
   "types_to_exclude": [
    "module",
    "function",
    "builtin_function_or_method",
    "instance",
    "_Feature"
   ],
   "window_display": false
  }
 },
 "nbformat": 4,
 "nbformat_minor": 2
}
