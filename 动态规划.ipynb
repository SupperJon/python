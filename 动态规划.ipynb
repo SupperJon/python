{
 "cells": [
  {
   "cell_type": "markdown",
   "metadata": {},
   "source": [
    "## 动态规划"
   ]
  },
  {
   "cell_type": "markdown",
   "metadata": {},
   "source": [
    "1.1最长共同子序列"
   ]
  },
  {
   "cell_type": "markdown",
   "metadata": {},
   "source": [
    "LCS问题陈述： 给定两个序列，找到两个序列中存在的最长子序列的长度。子序列是以相同的相对顺序出现的序列，但不一定是连续的。例如，“abc”，“abg”，“bdf”，“aeg”，“acefg”等等是“abcdefg”的子序列。因此，长度为n的字符串具有2 ^ n个不同的可能子序列。"
   ]
  },
  {
   "cell_type": "markdown",
   "metadata": {},
   "source": [
    "LCS问题的简单递归实现"
   ]
  },
  {
   "cell_type": "code",
   "execution_count": 1,
   "metadata": {},
   "outputs": [
    {
     "name": "stdout",
     "output_type": "stream",
     "text": [
      "Length of LCS is  4\n"
     ]
    }
   ],
   "source": [
    "def lcs(X, Y, m, n): \n",
    "  \n",
    "    if m == 0 or n == 0: \n",
    "        return 0; \n",
    "    elif X[m-1] == Y[n-1]: \n",
    "        return 1 + lcs(X, Y, m-1, n-1); \n",
    "    else: \n",
    "        return max(lcs(X, Y, m, n-1), lcs(X, Y, m-1, n)); \n",
    "  \n",
    "  \n",
    "# Driver program to test the above function \n",
    "X = \"AGGTAB\"\n",
    "Y = \"GXTXAYB\"\n",
    "print (\"Length of LCS is \", lcs(X , Y, len(X), len(Y))) "
   ]
  },
  {
   "cell_type": "markdown",
   "metadata": {},
   "source": [
    "上述朴素递归方法的时间复杂度在最坏情况下为O（2 ^ n），最坏情况在X和Y的所有字符不匹配时发生，即LCS的长度为0. "
   ]
  },
  {
   "cell_type": "code",
   "execution_count": 3,
   "metadata": {},
   "outputs": [
    {
     "name": "stdout",
     "output_type": "stream",
     "text": [
      "Length of LCS is  4\n"
     ]
    }
   ],
   "source": [
    "def lcs(X , Y): \n",
    "    # find the length of the strings \n",
    "    m = len(X) \n",
    "    n = len(Y) \n",
    "  \n",
    "    # declaring the array for storing the dp values \n",
    "    L = [[None]*(n+1) for i in range(m+1)] \n",
    "  \n",
    "    \"\"\"Following steps build L[m+1][n+1] in bottom up fashion \n",
    "    Note: L[i][j] contains length of LCS of X[0..i-1] \n",
    "    and Y[0..j-1]\"\"\"\n",
    "    for i in range(m+1): \n",
    "        for j in range(n+1): \n",
    "            if i == 0 or j == 0 : \n",
    "                L[i][j] = 0\n",
    "            elif X[i-1] == Y[j-1]: \n",
    "                L[i][j] = L[i-1][j-1]+1\n",
    "            else: \n",
    "                L[i][j] = max(L[i-1][j] , L[i][j-1]) \n",
    "  \n",
    "    # L[m][n] contains the length of LCS of X[0..n-1] & Y[0..m-1] \n",
    "    return L[m][n] \n",
    "#end of function lcs \n",
    "  \n",
    "  \n",
    "# Driver program to test the above function \n",
    "X = \"AGGTAB\"\n",
    "Y = \"GXTXAYB\"\n",
    "print(\"Length of LCS is \", lcs(X, Y)) "
   ]
  },
  {
   "cell_type": "markdown",
   "metadata": {},
   "source": [
    "上述实现的时间复杂度为O（mn），这比朴素递归实现的最坏情况时间复杂度要好得多"
   ]
  },
  {
   "cell_type": "markdown",
   "metadata": {},
   "source": [
    "1.1.1打印最长的公共子序列"
   ]
  },
  {
   "cell_type": "code",
   "execution_count": 6,
   "metadata": {},
   "outputs": [
    {
     "name": "stdout",
     "output_type": "stream",
     "text": [
      "LCS of AGGTAB and GXTXAYB is GTAB\n"
     ]
    }
   ],
   "source": [
    "def lcs(X, Y, m, n): \n",
    "    L = [[0 for x in range(n+1)] for x in range(m+1)] \n",
    "  \n",
    "    # Following steps build L[m+1][n+1] in bottom up fashion. Note \n",
    "    # that L[i][j] contains length of LCS of X[0..i-1] and Y[0..j-1]  \n",
    "    for i in range(m+1): \n",
    "        for j in range(n+1): \n",
    "            if i == 0 or j == 0: \n",
    "                L[i][j] = 0\n",
    "            elif X[i-1] == Y[j-1]: \n",
    "                L[i][j] = L[i-1][j-1] + 1\n",
    "            else: \n",
    "                L[i][j] = max(L[i-1][j], L[i][j-1]) \n",
    "  \n",
    "    # Following code is used to print LCS \n",
    "    index = L[m][n] \n",
    "  \n",
    "    # Create a character array to store the lcs string \n",
    "    lcs = [\"\"] * (index+1) \n",
    "    lcs[index] = \"\" \n",
    "  \n",
    "    # Start from the right-most-bottom-most corner and \n",
    "    # one by one store characters in lcs[] \n",
    "    i = m \n",
    "    j = n \n",
    "    while i > 0 and j > 0: \n",
    "  \n",
    "        # If current character in X[] and Y are same, then \n",
    "        # current character is part of LCS \n",
    "        if X[i-1] == Y[j-1]: \n",
    "            lcs[index-1] = X[i-1] \n",
    "            i-=1\n",
    "            j-=1\n",
    "            index-=1\n",
    "  \n",
    "        # If not same, then find the larger of two and \n",
    "        # go in the direction of larger value \n",
    "        elif L[i-1][j] > L[i][j-1]: \n",
    "            i-=1\n",
    "        else: \n",
    "            j-=1\n",
    "  \n",
    "    print (\"LCS of \" + X + \" and \" + Y + \" is \" + \"\".join(lcs))  \n",
    "  \n",
    "# Driver program \n",
    "X = \"AGGTAB\"\n",
    "Y = \"GXTXAYB\"\n",
    "m = len(X) \n",
    "n = len(Y) \n",
    "lcs(X, Y, m, n) "
   ]
  },
  {
   "cell_type": "markdown",
   "metadata": {},
   "source": [
    "1.2计算使用步骤1,2或3到达第n个楼梯的方法"
   ]
  },
  {
   "cell_type": "markdown",
   "metadata": {},
   "source": [
    "一个孩子正在爬楼梯，有n个台阶，可以一步跳一步，两步或三步。实施一种方法来计算孩子爬楼梯的可能方式。\n",
    "\n",
    "有两种方法可以解决这个问题\n",
    "1.递归方法\n",
    "2.动态编程"
   ]
  },
  {
   "cell_type": "code",
   "execution_count": 7,
   "metadata": {},
   "outputs": [
    {
     "name": "stdout",
     "output_type": "stream",
     "text": [
      "7\n"
     ]
    }
   ],
   "source": [
    "#递归方法\n",
    "def findStep( n) : \n",
    "    if (n == 1 or n == 0) : \n",
    "        return 1\n",
    "    elif (n == 2) : \n",
    "        return 2\n",
    "      \n",
    "    else : \n",
    "        return findStep(n - 3) + findStep(n - 2) + findStep(n - 1)  \n",
    "  \n",
    "  \n",
    "# Driver code \n",
    "n = 4\n",
    "print(findStep(n)) "
   ]
  },
  {
   "cell_type": "code",
   "execution_count": 8,
   "metadata": {},
   "outputs": [
    {
     "name": "stdout",
     "output_type": "stream",
     "text": [
      "7\n"
     ]
    }
   ],
   "source": [
    "#动态规划\n",
    "def countWays(n) : \n",
    "    res = [0] * (n + 1) \n",
    "    res[0] = 1\n",
    "    res[1] = 1\n",
    "    res[2] = 2\n",
    "      \n",
    "    for i in range(3, n + 1) : \n",
    "        res[i] = res[i - 1] + res[i - 2] + res[i - 3] \n",
    "      \n",
    "    return res[n] \n",
    "  \n",
    "# Driver code \n",
    "n = 4\n",
    "print(countWays(n)) \n"
   ]
  },
  {
   "cell_type": "markdown",
   "metadata": {},
   "source": [
    " 1.3硬币变化问题"
   ]
  },
  {
   "cell_type": "markdown",
   "metadata": {},
   "source": [
    "给定值N，如果我们想要改变N美分，并且我们每个S = {S1，S2，..，Sm}值硬币都有无限供应，我们可以通过多少方式进行更改？硬币的顺序无关紧要。\n",
    "例如，对于N = 4和S = {1,2,3}，有四个解：{1,1,1,1}，{1,1,2}，{2,2}，{1， 3}。因此输出应为4.对于N = 10且S = {2,5,3,6}，有五种解决方案：{2,2,2,2,2}，{2,2,3,3}， {2,2,6}，{2,3,5}和{5,5}。所以输出应该是5"
   ]
  },
  {
   "cell_type": "code",
   "execution_count": 9,
   "metadata": {},
   "outputs": [
    {
     "name": "stdout",
     "output_type": "stream",
     "text": [
      "4\n"
     ]
    }
   ],
   "source": [
    "#递归方法\n",
    "def count(S, m, n ): \n",
    "  \n",
    "    # If n is 0 then there is 1 \n",
    "    # solution (do not include any coin) \n",
    "    if (n == 0): \n",
    "        return 1\n",
    "  \n",
    "    # If n is less than 0 then no \n",
    "    # solution exists \n",
    "    if (n < 0): \n",
    "        return 0; \n",
    "  \n",
    "    # If there are no coins and n \n",
    "    # is greater than 0, then no \n",
    "    # solution exist \n",
    "    if (m <=0 and n >= 1): \n",
    "        return 0\n",
    "  \n",
    "    # count is sum of solutions (i)  \n",
    "    # including S[m-1] (ii) excluding S[m-1] \n",
    "    return count( S, m - 1, n ) + count( S, m, n-S[m-1] ); \n",
    "  \n",
    "# Driver program to test above function \n",
    "arr = [1, 2, 3] \n",
    "m = len(arr) \n",
    "print(count(arr, m, 4)) "
   ]
  },
  {
   "cell_type": "code",
   "execution_count": 10,
   "metadata": {},
   "outputs": [
    {
     "name": "stdout",
     "output_type": "stream",
     "text": [
      "4\n"
     ]
    }
   ],
   "source": [
    "#动态规划\n",
    "def count(S, m, n): \n",
    "    # We need n+1 rows as the table is constructed  \n",
    "    # in bottom up manner using the base case 0 value \n",
    "    # case (n = 0) \n",
    "    table = [[0 for x in range(m)] for x in range(n+1)] \n",
    "  \n",
    "    # Fill the entries for 0 value case (n = 0) \n",
    "    for i in range(m): \n",
    "        table[0][i] = 1\n",
    "  \n",
    "    # Fill rest of the table entries in bottom up manner \n",
    "    for i in range(1, n+1): \n",
    "        for j in range(m): \n",
    "  \n",
    "            # Count of solutions including S[j] \n",
    "            x = table[i - S[j]][j] if i-S[j] >= 0 else 0\n",
    "  \n",
    "            # Count of solutions excluding S[j] \n",
    "            y = table[i][j-1] if j >= 1 else 0\n",
    "  \n",
    "            # total count \n",
    "            table[i][j] = x + y \n",
    "  \n",
    "    return table[n][m-1] \n",
    "  \n",
    "# Driver program to test above function \n",
    "arr = [1, 2, 3] \n",
    "m = len(arr) \n",
    "n = 4\n",
    "print(count(arr, m, n)) "
   ]
  },
  {
   "cell_type": "code",
   "execution_count": 11,
   "metadata": {},
   "outputs": [
    {
     "name": "stdout",
     "output_type": "stream",
     "text": [
      "4\n"
     ]
    }
   ],
   "source": [
    "#上述简化版\n",
    "def count(S, m, n): \n",
    "  \n",
    "    # table[i] will be storing the number of solutions for \n",
    "    # value i. We need n+1 rows as the table is constructed \n",
    "    # in bottom up manner using the base case (n = 0) \n",
    "    # Initialize all table values as 0 \n",
    "    table = [0 for k in range(n+1)] \n",
    "  \n",
    "    # Base case (If given value is 0) \n",
    "    table[0] = 1\n",
    "  \n",
    "    # Pick all coins one by one and update the table[] values \n",
    "    # after the index greater than or equal to the value of the \n",
    "    # picked coin \n",
    "    for i in range(0,m): \n",
    "        for j in range(S[i],n+1): \n",
    "            table[j] += table[j-S[i]] \n",
    "  \n",
    "    return table[n] \n",
    "  \n",
    "# Driver program to test above function \n",
    "arr = [1, 2, 3] \n",
    "m = len(arr) \n",
    "n = 4\n",
    "x = count(arr, m, n) \n",
    "print (x) "
   ]
  },
  {
   "cell_type": "markdown",
   "metadata": {},
   "source": [
    "找到产生给定值的最小硬币数量"
   ]
  },
  {
   "cell_type": "code",
   "execution_count": 21,
   "metadata": {},
   "outputs": [
    {
     "name": "stdout",
     "output_type": "stream",
     "text": [
      "Minimum coins required is 2\n"
     ]
    }
   ],
   "source": [
    "import sys \n",
    "  \n",
    "# m is size of coins array (number of different coins) \n",
    "def minCoins(coins, m, V): \n",
    "  \n",
    "    # base case \n",
    "    if (V == 0): \n",
    "        return 0\n",
    "  \n",
    "    # Initialize result \n",
    "    res = sys.maxsize \n",
    "      \n",
    "    # Try every coin that has smaller value than V \n",
    "    for i in range(0, m): \n",
    "        if (coins[i] <= V): \n",
    "            sub_res = minCoins(coins, m, V-coins[i]) \n",
    "  \n",
    "            # Check for INT_MAX to avoid overflow and see if \n",
    "            # result can minimized \n",
    "            if (sub_res != sys.maxsize and sub_res + 1 < res): \n",
    "                res = sub_res + 1\n",
    "  \n",
    "    return res \n",
    "  \n",
    "# Driver program to test above function \n",
    "coins = [9, 6, 5, 1] \n",
    "m = len(coins) \n",
    "V = 11\n",
    "print(\"Minimum coins required is\",minCoins(coins, m, V)) "
   ]
  },
  {
   "cell_type": "code",
   "execution_count": 22,
   "metadata": {},
   "outputs": [
    {
     "name": "stdout",
     "output_type": "stream",
     "text": [
      "Minimum coins required is  2\n"
     ]
    }
   ],
   "source": [
    "import sys  \n",
    "  \n",
    "# m is size of coins array (number of  \n",
    "# different coins) \n",
    "def minCoins(coins, m, V): \n",
    "      \n",
    "    # table[i] will be storing the minimum  \n",
    "    # number of coins required for i value.  \n",
    "    # So table[V] will have result \n",
    "    table = [0 for i in range(V + 1)] \n",
    "  \n",
    "    # Base case (If given value V is 0) \n",
    "    table[0] = 0\n",
    "  \n",
    "    # Initialize all table values as Infinite \n",
    "    for i in range(1, V + 1): \n",
    "        table[i] = sys.maxsize \n",
    "  \n",
    "    # Compute minimum coins required  \n",
    "    # for all values from 1 to V \n",
    "    for i in range(1, V + 1): \n",
    "          \n",
    "        # Go through all coins smaller than i \n",
    "        for j in range(m): \n",
    "            if (coins[j] <= i): \n",
    "                sub_res = table[i - coins[j]] \n",
    "                if (sub_res != sys.maxsize and \n",
    "                    sub_res + 1 < table[i]): \n",
    "                    table[i] = sub_res + 1\n",
    "    return table[V] \n",
    "  \n",
    "# Driver Code \n",
    "if __name__ == \"__main__\": \n",
    "  \n",
    "    coins = [9, 6, 5, 1] \n",
    "    m = len(coins) \n",
    "    V = 11\n",
    "    print(\"Minimum coins required is \",  \n",
    "                 minCoins(coins, m, V)) "
   ]
  },
  {
   "cell_type": "markdown",
   "metadata": {},
   "source": [
    "1.4查找字符串是否与其他两个字符串交错"
   ]
  },
  {
   "cell_type": "markdown",
   "metadata": {},
   "source": [
    "给出三个字符串A，B和C.写一个函数，检查C是否是A和B的交织。如果C包含A和B的所有字符以及个别中所有字符的顺序，则称其为交错A和B.字符串被保留。"
   ]
  },
  {
   "cell_type": "code",
   "execution_count": null,
   "metadata": {},
   "outputs": [],
   "source": [
    "# C版本\n",
    "bool isInterleaved(char* A, char* B, char* C) \n",
    "{ \n",
    "    // Find lengths of the two strings \n",
    "    int M = strlen(A), N = strlen(B); \n",
    "  \n",
    "    // Let us create a 2D table to store solutions of \n",
    "    // subproblems.  C[i][j] will be true if C[0..i+j-1] \n",
    "    // is an interleaving of A[0..i-1] and B[0..j-1]. \n",
    "    bool IL[M+1][N+1]; \n",
    "  \n",
    "    memset(IL, 0, sizeof(IL)); // Initialize all values as false. \n",
    "  \n",
    "    // C can be an interleaving of A and B only of sum \n",
    "    // of lengths of A & B is equal to length of C. \n",
    "    if ((M+N) != strlen(C)) \n",
    "       return false; \n",
    "  \n",
    "    // Process all characters of A and B \n",
    "    for (int i=0; i<=M; ++i) \n",
    "    { \n",
    "        for (int j=0; j<=N; ++j) \n",
    "        { \n",
    "            // two empty strings have an empty string \n",
    "            // as interleaving \n",
    "            if (i==0 && j==0) \n",
    "                IL[i][j] = true; \n",
    "  \n",
    "            // A is empty \n",
    "            else if (i==0 && B[j-1]==C[j-1]) \n",
    "                IL[i][j] = IL[i][j-1]; \n",
    "  \n",
    "            // B is empty \n",
    "            else if (j==0 && A[i-1]==C[i-1]) \n",
    "                IL[i][j] = IL[i-1][j]; \n",
    "  \n",
    "            // Current character of C matches with current character of A, \n",
    "            // but doesn't match with current character of B \n",
    "            else if(A[i-1]==C[i+j-1] && B[j-1]!=C[i+j-1]) \n",
    "                IL[i][j] = IL[i-1][j]; \n",
    "  \n",
    "            // Current character of C matches with current character of B, \n",
    "            // but doesn't match with current character of A \n",
    "            else if (A[i-1]!=C[i+j-1] && B[j-1]==C[i+j-1]) \n",
    "                IL[i][j] = IL[i][j-1]; \n",
    "  \n",
    "            // Current character of C matches with that of both A and B \n",
    "            else if (A[i-1]==C[i+j-1] && B[j-1]==C[i+j-1]) \n",
    "                IL[i][j]=(IL[i-1][j] || IL[i][j-1]) ; \n",
    "        } \n",
    "    } \n",
    "  \n",
    "    return IL[M][N]; \n",
    "} "
   ]
  },
  {
   "cell_type": "code",
   "execution_count": null,
   "metadata": {},
   "outputs": [],
   "source": []
  }
 ],
 "metadata": {
  "kernelspec": {
   "display_name": "Python 3",
   "language": "python",
   "name": "python3"
  },
  "language_info": {
   "codemirror_mode": {
    "name": "ipython",
    "version": 3
   },
   "file_extension": ".py",
   "mimetype": "text/x-python",
   "name": "python",
   "nbconvert_exporter": "python",
   "pygments_lexer": "ipython3",
   "version": "3.7.1"
  },
  "toc": {
   "base_numbering": 1,
   "nav_menu": {},
   "number_sections": true,
   "sideBar": true,
   "skip_h1_title": false,
   "title_cell": "Table of Contents",
   "title_sidebar": "Contents",
   "toc_cell": false,
   "toc_position": {},
   "toc_section_display": true,
   "toc_window_display": false
  },
  "varInspector": {
   "cols": {
    "lenName": 16,
    "lenType": 16,
    "lenVar": 40
   },
   "kernels_config": {
    "python": {
     "delete_cmd_postfix": "",
     "delete_cmd_prefix": "del ",
     "library": "var_list.py",
     "varRefreshCmd": "print(var_dic_list())"
    },
    "r": {
     "delete_cmd_postfix": ") ",
     "delete_cmd_prefix": "rm(",
     "library": "var_list.r",
     "varRefreshCmd": "cat(var_dic_list()) "
    }
   },
   "types_to_exclude": [
    "module",
    "function",
    "builtin_function_or_method",
    "instance",
    "_Feature"
   ],
   "window_display": false
  }
 },
 "nbformat": 4,
 "nbformat_minor": 2
}
